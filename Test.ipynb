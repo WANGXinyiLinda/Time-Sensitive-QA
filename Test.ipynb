{
 "cells": [
  {
   "cell_type": "code",
   "execution_count": null,
   "metadata": {},
   "outputs": [],
   "source": [
    "import datasets\n",
    "\n",
    "dataset = datasets.load_dataset('json', data_files={'dev': 'dataset/dev.easy.json'})\n",
    "dataset = dataset['dev']\n",
    "references = {}\n",
    "for entry in iter(dataset):\n",
    "    references[entry['idx']] = entry['targets']\n",
    "\n",
    "import json\n",
    "\n",
    "with open('outputs/2021-07-27/11-25-35/output.json') as f:\n",
    "    pred = json.load(f)\n",
    "\n",
    "prediction = {}\n",
    "for row in pred:\n",
    "    output = '' if row['output'] == '[unanswerable]' else row['output']\n",
    "    prediction[row['idx']] = output\n",
    "    \n",
    "from utils import get_raw_scores\n",
    "\n",
    "get_raw_scores(prediction, references)"
   ]
  },
  {
   "cell_type": "code",
   "execution_count": null,
   "metadata": {
    "scrolled": true
   },
   "outputs": [],
   "source": [
    "get_raw_scores({'x':''}, {'x': ['']})"
   ]
  },
  {
   "cell_type": "code",
   "execution_count": 19,
   "metadata": {
    "scrolled": false
   },
   "outputs": [
    {
     "name": "stdout",
     "output_type": "stream",
     "text": [
      " between  1478 49.86468200270636\n",
      " in  1702 49.529964747356054\n",
      " before  393 51.14503816793893\n",
      " after  406 57.389162561576356\n"
     ]
    }
   ],
   "source": [
    "import json\n",
    "\n",
    "from utils import get_raw_scores\n",
    "\n",
    "with open('/data2/wenhu/Time-Sensitive-QA/outputs/2021-08-01/18-38-18/output.json', 'r') as f:\n",
    "    predictions = json.load(f)\n",
    "\n",
    "for flag in [' between ', ' in ', ' before ', ' after ']:\n",
    "    with open('dataset/dev.hard.json') as f:\n",
    "        reference = {}\n",
    "        for line in f:\n",
    "            q = json.loads(line)\n",
    "            if flag in q['question']:\n",
    "                reference[q['idx']] = q['targets']\n",
    "\n",
    "    scores = []\n",
    "    for k in reference:\n",
    "        score = get_raw_scores({k: predictions[k]}, {k: reference[k]})['exact']\n",
    "        scores.append(score)\n",
    "    print(flag, len(reference), sum(scores) / len(scores))\n",
    "#print(k, predictions[k], reference[k], score['exact'])"
   ]
  },
  {
   "cell_type": "code",
   "execution_count": 21,
   "metadata": {
    "scrolled": true
   },
   "outputs": [
    {
     "name": "stdout",
     "output_type": "stream",
     "text": [
      "P39 789 44.35994930291508\n",
      "P54 957 55.27690700104493\n",
      "P108 357 47.89915966386555\n",
      "P6 434 54.60829493087557\n",
      "P69 310 54.83870967741935\n",
      "P286 28 71.42857142857143\n",
      "P26 147 60.54421768707483\n"
     ]
    }
   ],
   "source": [
    "import json\n",
    "\n",
    "from utils import get_raw_scores\n",
    "\n",
    "with open('/data2/wenhu/Time-Sensitive-QA/outputs/2021-08-01/18-38-18/output.json', 'r') as f:\n",
    "    predictions = json.load(f)\n",
    "\n",
    "#for flag in [' between ', ' in ', ' before ', ' after ']:\n",
    "for flag in ['P39', \"P54\", \"P108\", \"P6\", \"P69\", \"P286\", \"P26\"]:\n",
    "    with open('dataset/dev.hard.json') as f:\n",
    "        reference = {}\n",
    "        for line in f:\n",
    "            q = json.loads(line)\n",
    "            if flag in q['idx']:\n",
    "                reference[q['idx']] = q['targets']\n",
    "\n",
    "    scores = []\n",
    "    for k in reference:\n",
    "        score = get_raw_scores({k: predictions[k]}, {k: reference[k]})['exact']\n",
    "        scores.append(score)\n",
    "    print(flag, len(reference), sum(scores) / len(scores))\n",
    "#print(k, predictions[k], reference[k], score['exact'])"
   ]
  },
  {
   "cell_type": "code",
   "execution_count": 30,
   "metadata": {
    "scrolled": true
   },
   "outputs": [
    {
     "data": {
      "image/png": "[encoded data removed]",
      "text/plain": [
       "<Figure size 432x288 with 1 Axes>"
      ]
     },
     "metadata": {
      "needs_background": "light"
     },
     "output_type": "display_data"
    }
   ],
   "source": [
    "import json\n",
    "from utils import get_raw_scores\n",
    "import matplotlib.pyplot as plt\n",
    "from collections import defaultdict\n",
    "\n",
    "with open('/data2/wenhu/Time-Sensitive-QA/outputs/2021-08-01/18-38-18/output.json', 'r') as f:\n",
    "    predictions = json.load(f)\n",
    "\n",
    "with open('dataset/dev.hard.json') as f:\n",
    "    reference = {}\n",
    "    for line in f:\n",
    "        q = json.loads(line)\n",
    "        reference[q['idx']] = (len(q['paragraphs']), q['targets'])\n",
    "\n",
    "inputs = defaultdict(list)\n",
    "for k in reference:\n",
    "    length, targets = reference[k]\n",
    "    score = get_raw_scores({k: predictions[k]}, {k: targets})['exact']\n",
    "    length = (length // 5) * 5\n",
    "    inputs[length].append(score)\n",
    "\n",
    "x, y = [], []\n",
    "for k, v in inputs.items():\n",
    "    x.append(k)\n",
    "    y.append(sum(v) / len(v))\n",
    "\n",
    "plt.bar(x, y, width=4)\n",
    "plt.show()"
   ]
  },
  {
   "cell_type": "code",
   "execution_count": null,
   "metadata": {
    "scrolled": true
   },
   "outputs": [],
   "source": [
    "single, multiple = 0, 0\n",
    "for k, q in reference.items():\n",
    "    if 'Member of Parliament' in q[1] or 'MP' in q[1]:\n",
    "        print(q[1])\n",
    "    if len(q[1]) > 1:\n",
    "        multiple += 1\n",
    "    else:\n",
    "        single += 1"
   ]
  },
  {
   "cell_type": "code",
   "execution_count": 4,
   "metadata": {},
   "outputs": [
    {
     "name": "stdout",
     "output_type": "stream",
     "text": [
      "1249 2674\n"
     ]
    }
   ],
   "source": [
    "import json\n",
    "\n",
    "data = []\n",
    "with open('dataset/dev.hard.json', 'r') as f:\n",
    "    for line in f:\n",
    "        data.append(json.loads(line))\n",
    "\n",
    "answerable, na = 0, 0\n",
    "for d in data:\n",
    "    if d['targets'] == ['']:\n",
    "        na += 1\n",
    "    else:\n",
    "        answerable += 1\n",
    "        \n",
    "print(na, answerable)"
   ]
  }
 ],
 "metadata": {
  "kernelspec": {
   "display_name": "Python 3",
   "language": "python",
   "name": "python3"
  },
  "language_info": {
   "codemirror_mode": {
    "name": "ipython",
    "version": 3
   },
   "file_extension": ".py",
   "mimetype": "text/x-python",
   "name": "python",
   "nbconvert_exporter": "python",
   "pygments_lexer": "ipython3",
   "version": "3.7.6"
  }
 },
 "nbformat": 4,
 "nbformat_minor": 4
}
